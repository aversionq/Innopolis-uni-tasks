{
 "cells": [
  {
   "cell_type": "code",
   "execution_count": 1,
   "id": "26e16c23",
   "metadata": {},
   "outputs": [],
   "source": [
    "import numpy as np\n",
    "import pandas as pd\n",
    "import seaborn as sns\n",
    "import matplotlib.pyplot as plt\n",
    "from sklearn.model_selection import train_test_split\n",
    "from sklearn.linear_model import LogisticRegression, LinearRegression\n",
    "from sklearn.metrics import classification_report, confusion_matrix"
   ]
  },
  {
   "cell_type": "code",
   "execution_count": 2,
   "id": "5e874005",
   "metadata": {},
   "outputs": [],
   "source": [
    "import matplotlib as mpl"
   ]
  },
  {
   "cell_type": "code",
   "execution_count": 7,
   "id": "b99c367b",
   "metadata": {},
   "outputs": [],
   "source": [
    "x = np.arange(0.0, 2 * np.pi, 2 * np.pi / 100.0)"
   ]
  },
  {
   "cell_type": "code",
   "execution_count": 8,
   "id": "0428a057",
   "metadata": {},
   "outputs": [
    {
     "data": {
      "text/plain": [
       "array([0.        , 0.06283185, 0.12566371, 0.18849556, 0.25132741,\n",
       "       0.31415927, 0.37699112, 0.43982297, 0.50265482, 0.56548668,\n",
       "       0.62831853, 0.69115038, 0.75398224, 0.81681409, 0.87964594,\n",
       "       0.9424778 , 1.00530965, 1.0681415 , 1.13097336, 1.19380521,\n",
       "       1.25663706, 1.31946891, 1.38230077, 1.44513262, 1.50796447,\n",
       "       1.57079633, 1.63362818, 1.69646003, 1.75929189, 1.82212374,\n",
       "       1.88495559, 1.94778745, 2.0106193 , 2.07345115, 2.136283  ,\n",
       "       2.19911486, 2.26194671, 2.32477856, 2.38761042, 2.45044227,\n",
       "       2.51327412, 2.57610598, 2.63893783, 2.70176968, 2.76460154,\n",
       "       2.82743339, 2.89026524, 2.95309709, 3.01592895, 3.0787608 ,\n",
       "       3.14159265, 3.20442451, 3.26725636, 3.33008821, 3.39292007,\n",
       "       3.45575192, 3.51858377, 3.58141563, 3.64424748, 3.70707933,\n",
       "       3.76991118, 3.83274304, 3.89557489, 3.95840674, 4.0212386 ,\n",
       "       4.08407045, 4.1469023 , 4.20973416, 4.27256601, 4.33539786,\n",
       "       4.39822972, 4.46106157, 4.52389342, 4.58672527, 4.64955713,\n",
       "       4.71238898, 4.77522083, 4.83805269, 4.90088454, 4.96371639,\n",
       "       5.02654825, 5.0893801 , 5.15221195, 5.2150438 , 5.27787566,\n",
       "       5.34070751, 5.40353936, 5.46637122, 5.52920307, 5.59203492,\n",
       "       5.65486678, 5.71769863, 5.78053048, 5.84336234, 5.90619419,\n",
       "       5.96902604, 6.03185789, 6.09468975, 6.1575216 , 6.22035345])"
      ]
     },
     "execution_count": 8,
     "metadata": {},
     "output_type": "execute_result"
    }
   ],
   "source": [
    "x"
   ]
  },
  {
   "cell_type": "code",
   "execution_count": 9,
   "id": "7fdc96fe",
   "metadata": {},
   "outputs": [
    {
     "data": {
      "text/plain": [
       "100"
      ]
     },
     "execution_count": 9,
     "metadata": {},
     "output_type": "execute_result"
    }
   ],
   "source": [
    "len(x)"
   ]
  },
  {
   "cell_type": "code",
   "execution_count": 10,
   "id": "c44cf7e0",
   "metadata": {},
   "outputs": [],
   "source": [
    "sin_func = np.sin(x)"
   ]
  },
  {
   "cell_type": "code",
   "execution_count": 11,
   "id": "d1510e70",
   "metadata": {},
   "outputs": [],
   "source": [
    "cos_func = np.cos(x)"
   ]
  },
  {
   "cell_type": "code",
   "execution_count": 33,
   "id": "0ccd6a9a",
   "metadata": {},
   "outputs": [
    {
     "data": {
      "text/plain": [
       "([<matplotlib.axis.YTick at 0x28db9e90790>,\n",
       "  <matplotlib.axis.YTick at 0x28db9a76a00>,\n",
       "  <matplotlib.axis.YTick at 0x28db9e86a60>,\n",
       "  <matplotlib.axis.YTick at 0x28db9ed29d0>,\n",
       "  <matplotlib.axis.YTick at 0x28db9ed2ee0>,\n",
       "  <matplotlib.axis.YTick at 0x28db9ed8430>,\n",
       "  <matplotlib.axis.YTick at 0x28db9ed2160>,\n",
       "  <matplotlib.axis.YTick at 0x28db9ecc1f0>,\n",
       "  <matplotlib.axis.YTick at 0x28db9ed8130>,\n",
       "  <matplotlib.axis.YTick at 0x28db9ed8a60>,\n",
       "  <matplotlib.axis.YTick at 0x28db9ed8f70>],\n",
       " [Text(0, 0, ''),\n",
       "  Text(0, 0, ''),\n",
       "  Text(0, 0, ''),\n",
       "  Text(0, 0, ''),\n",
       "  Text(0, 0, ''),\n",
       "  Text(0, 0, ''),\n",
       "  Text(0, 0, ''),\n",
       "  Text(0, 0, ''),\n",
       "  Text(0, 0, ''),\n",
       "  Text(0, 0, ''),\n",
       "  Text(0, 0, '')])"
      ]
     },
     "execution_count": 33,
     "metadata": {},
     "output_type": "execute_result"
    },
    {
     "data": {
      "image/png": "[encoded data removed]",
      "text/plain": [
       "<Figure size 432x288 with 1 Axes>"
      ]
     },
     "metadata": {
      "needs_background": "light"
     },
     "output_type": "display_data"
    }
   ],
   "source": [
    "plt.plot(x, sin_func, color='b', label='sin')\n",
    "plt.plot(x, cos_func, marker='+', color='r', label='cos')\n",
    "plt.grid()\n",
    "plt.legend(loc='lower left')\n",
    "plt.xticks([i for i in np.arange(0.0, 2 * np.pi, 0.5)])\n",
    "plt.yticks([i for i in np.arange(-1, 1.2, 0.2)])"
   ]
  },
  {
   "cell_type": "code",
   "execution_count": 34,
   "id": "6e82cc79",
   "metadata": {},
   "outputs": [],
   "source": []
  },
  {
   "cell_type": "code",
   "execution_count": null,
   "id": "da5100a0",
   "metadata": {},
   "outputs": [],
   "source": []
  }
 ],
 "metadata": {
  "kernelspec": {
   "display_name": "Python 3",
   "language": "python",
   "name": "python3"
  },
  "language_info": {
   "codemirror_mode": {
    "name": "ipython",
    "version": 3
   },
   "file_extension": ".py",
   "mimetype": "text/x-python",
   "name": "python",
   "nbconvert_exporter": "python",
   "pygments_lexer": "ipython3",
   "version": "3.8.8"
  }
 },
 "nbformat": 4,
 "nbformat_minor": 5
}
