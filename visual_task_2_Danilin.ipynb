{
 "cells": [
  {
   "cell_type": "code",
   "execution_count": 1,
   "id": "9f13f751",
   "metadata": {},
   "outputs": [],
   "source": [
    "import numpy as np\n",
    "import pandas as pd\n",
    "import seaborn as sns\n",
    "import matplotlib.pyplot as plt\n",
    "from sklearn.model_selection import train_test_split\n",
    "from sklearn.linear_model import LogisticRegression, LinearRegression\n",
    "from sklearn.metrics import classification_report, confusion_matrix\n",
    "import matplotlib as mpl"
   ]
  },
  {
   "cell_type": "code",
   "execution_count": 2,
   "id": "cad3d4ce",
   "metadata": {},
   "outputs": [],
   "source": [
    "df = pd.read_csv('task19.csv', encoding=\"windows-1251\", sep=\";\")"
   ]
  },
  {
   "cell_type": "code",
   "execution_count": 3,
   "id": "08bfb462",
   "metadata": {},
   "outputs": [
    {
     "data": {
      "text/html": [
       "<div>\n",
       "<style scoped>\n",
       "    .dataframe tbody tr th:only-of-type {\n",
       "        vertical-align: middle;\n",
       "    }\n",
       "\n",
       "    .dataframe tbody tr th {\n",
       "        vertical-align: top;\n",
       "    }\n",
       "\n",
       "    .dataframe thead th {\n",
       "        text-align: right;\n",
       "    }\n",
       "</style>\n",
       "<table border=\"1\" class=\"dataframe\">\n",
       "  <thead>\n",
       "    <tr style=\"text-align: right;\">\n",
       "      <th></th>\n",
       "      <th>Дата</th>\n",
       "      <th>Пункт отправления</th>\n",
       "      <th>Пункт назначения</th>\n",
       "      <th>Расстояние</th>\n",
       "      <th>Расход бензина</th>\n",
       "      <th>Масса груза</th>\n",
       "    </tr>\n",
       "  </thead>\n",
       "  <tbody>\n",
       "    <tr>\n",
       "      <th>0</th>\n",
       "      <td>1 октября</td>\n",
       "      <td>Липки</td>\n",
       "      <td>Березки</td>\n",
       "      <td>432</td>\n",
       "      <td>63</td>\n",
       "      <td>770</td>\n",
       "    </tr>\n",
       "    <tr>\n",
       "      <th>1</th>\n",
       "      <td>1 октября</td>\n",
       "      <td>Орехово</td>\n",
       "      <td>Дубки</td>\n",
       "      <td>121</td>\n",
       "      <td>17</td>\n",
       "      <td>670</td>\n",
       "    </tr>\n",
       "    <tr>\n",
       "      <th>2</th>\n",
       "      <td>1 октября</td>\n",
       "      <td>Осинки</td>\n",
       "      <td>Вязово</td>\n",
       "      <td>333</td>\n",
       "      <td>47</td>\n",
       "      <td>830</td>\n",
       "    </tr>\n",
       "    <tr>\n",
       "      <th>3</th>\n",
       "      <td>1 октября</td>\n",
       "      <td>Липки</td>\n",
       "      <td>Вязово</td>\n",
       "      <td>384</td>\n",
       "      <td>54</td>\n",
       "      <td>730</td>\n",
       "    </tr>\n",
       "    <tr>\n",
       "      <th>4</th>\n",
       "      <td>1 октября</td>\n",
       "      <td>Березки</td>\n",
       "      <td>Буково</td>\n",
       "      <td>135</td>\n",
       "      <td>19</td>\n",
       "      <td>540</td>\n",
       "    </tr>\n",
       "  </tbody>\n",
       "</table>\n",
       "</div>"
      ],
      "text/plain": [
       "        Дата Пункт отправления Пункт назначения  Расстояние  Расход бензина  \\\n",
       "0  1 октября             Липки          Березки         432              63   \n",
       "1  1 октября           Орехово            Дубки         121              17   \n",
       "2  1 октября            Осинки           Вязово         333              47   \n",
       "3  1 октября             Липки           Вязово         384              54   \n",
       "4  1 октября           Березки           Буково         135              19   \n",
       "\n",
       "   Масса груза  \n",
       "0          770  \n",
       "1          670  \n",
       "2          830  \n",
       "3          730  \n",
       "4          540  "
      ]
     },
     "execution_count": 3,
     "metadata": {},
     "output_type": "execute_result"
    }
   ],
   "source": [
    "df.head()"
   ]
  },
  {
   "cell_type": "code",
   "execution_count": 4,
   "id": "47d7843c",
   "metadata": {},
   "outputs": [],
   "source": [
    "fuel_labels = df['Дата'].unique()\n",
    "fuel_data = df.groupby(['Дата']).sum()['Расход бензина']"
   ]
  },
  {
   "cell_type": "code",
   "execution_count": 18,
   "id": "a51cd4ac",
   "metadata": {},
   "outputs": [
    {
     "data": {
      "text/plain": [
       "([<matplotlib.patches.Wedge at 0x1e789c13400>,\n",
       "  <matplotlib.patches.Wedge at 0x1e789c13af0>,\n",
       "  <matplotlib.patches.Wedge at 0x1e789c211c0>,\n",
       "  <matplotlib.patches.Wedge at 0x1e789c21850>,\n",
       "  <matplotlib.patches.Wedge at 0x1e789c21ee0>,\n",
       "  <matplotlib.patches.Wedge at 0x1e789c2f5b0>,\n",
       "  <matplotlib.patches.Wedge at 0x1e789c2fc40>,\n",
       "  <matplotlib.patches.Wedge at 0x1e789c3d310>,\n",
       "  <matplotlib.patches.Wedge at 0x1e789c3d9a0>],\n",
       " [Text(1.0675097497445698, 0.2653731979689852, '1 октября'),\n",
       "  Text(0.6874581626080926, 0.858720719828924, '2 октября'),\n",
       "  Text(-0.09174185961353616, 1.0961676109038483, '3 октября'),\n",
       "  Text(-0.7949959488418171, 0.7602509068229376, '4 октября'),\n",
       "  Text(-1.0993227778517012, 0.038593135353577813, '5 октября'),\n",
       "  Text(-0.8681342078786425, -0.6755316403477503, '6 октября'),\n",
       "  Text(-0.23324421761770747, -1.0749870394325243, '7 октября'),\n",
       "  Text(0.4532632749115189, -1.002273617140791, '8 октября'),\n",
       "  Text(0.9996054997536583, -0.459117463033415, '9 октября')],\n",
       " [Text(0.5822780453152199, 0.1447490170739919, '8%'),\n",
       "  Text(0.3749771796044141, 0.46839311990668575, '13%'),\n",
       "  Text(-0.05004101433465608, 0.5979096059475535, '11%'),\n",
       "  Text(-0.4336341539137184, 0.4146823128125114, '12%'),\n",
       "  Text(-0.5996306061009278, 0.021050801101951535, '11%'),\n",
       "  Text(-0.47352774975198675, -0.36847180382604555, '11%'),\n",
       "  Text(-0.12722411870056768, -0.586356566963195, '11%'),\n",
       "  Text(0.24723451358810117, -0.5466947002586132, '9%'),\n",
       "  Text(0.5452393635019954, -0.2504277071091354, '14%')])"
      ]
     },
     "execution_count": 18,
     "metadata": {},
     "output_type": "execute_result"
    },
    {
     "data": {
      "image/png": "[encoded data removed]",
      "text/plain": [
       "<Figure size 432x288 with 1 Axes>"
      ]
     },
     "metadata": {},
     "output_type": "display_data"
    }
   ],
   "source": [
    "# Суммарный расход бензина по датам по всем направлениям.\n",
    "plt.pie(fuel_data, labels = fuel_labels, autopct='%.0f%%')"
   ]
  },
  {
   "cell_type": "code",
   "execution_count": 17,
   "id": "a5d9409c",
   "metadata": {},
   "outputs": [
    {
     "data": {
      "text/plain": [
       "<AxesSubplot:xlabel='Count', ylabel='Дата'>"
      ]
     },
     "execution_count": 17,
     "metadata": {},
     "output_type": "execute_result"
    },
    {
     "data": {
      "image/png": "[encoded data removed]",
      "text/plain": [
       "<Figure size 432x288 with 1 Axes>"
      ]
     },
     "metadata": {
      "needs_background": "light"
     },
     "output_type": "display_data"
    }
   ],
   "source": [
    "# Гистограмма показывает количество путешествий в даты, приведённые в датасете.\n",
    "sns.histplot(data=df, y=\"Дата\", color=\"g\")"
   ]
  },
  {
   "cell_type": "code",
   "execution_count": 11,
   "id": "a4e1918f",
   "metadata": {},
   "outputs": [
    {
     "data": {
      "text/plain": [
       "Дата\n",
       "1 октября    21060\n",
       "2 октября    35830\n",
       "3 октября    33560\n",
       "4 октября    32990\n",
       "5 октября    27700\n",
       "6 октября    31510\n",
       "7 октября    29050\n",
       "8 октября    28450\n",
       "9 октября    38920\n",
       "Name: Масса груза, dtype: int64"
      ]
     },
     "execution_count": 11,
     "metadata": {},
     "output_type": "execute_result"
    }
   ],
   "source": [
    "weight_sum_data = df.groupby(['Дата']).sum()['Масса груза']\n",
    "weight_sum_data"
   ]
  },
  {
   "cell_type": "code",
   "execution_count": 16,
   "id": "f5f7f6e4",
   "metadata": {},
   "outputs": [
    {
     "data": {
      "text/plain": [
       "([0, 1, 2, 3, 4, 5, 6, 7, 8],\n",
       " [Text(0, 0, ''),\n",
       "  Text(0, 0, ''),\n",
       "  Text(0, 0, ''),\n",
       "  Text(0, 0, ''),\n",
       "  Text(0, 0, ''),\n",
       "  Text(0, 0, ''),\n",
       "  Text(0, 0, ''),\n",
       "  Text(0, 0, ''),\n",
       "  Text(0, 0, '')])"
      ]
     },
     "execution_count": 16,
     "metadata": {},
     "output_type": "execute_result"
    },
    {
     "data": {
      "image/png": "[encoded data removed]",
      "text/plain": [
       "<Figure size 432x288 with 1 Axes>"
      ]
     },
     "metadata": {
      "needs_background": "light"
     },
     "output_type": "display_data"
    }
   ],
   "source": [
    "# Зависимость суммарной массы от того, в какое число было совершено путешествие.\n",
    "sns.lineplot(data=weight_sum_data)\n",
    "plt.xticks(rotation=45)"
   ]
  },
  {
   "cell_type": "code",
   "execution_count": null,
   "id": "caa03148",
   "metadata": {},
   "outputs": [],
   "source": []
  }
 ],
 "metadata": {
  "kernelspec": {
   "display_name": "Python 3",
   "language": "python",
   "name": "python3"
  },
  "language_info": {
   "codemirror_mode": {
    "name": "ipython",
    "version": 3
   },
   "file_extension": ".py",
   "mimetype": "text/x-python",
   "name": "python",
   "nbconvert_exporter": "python",
   "pygments_lexer": "ipython3",
   "version": "3.8.8"
  }
 },
 "nbformat": 4,
 "nbformat_minor": 5
}
