{
 "cells": [
  {
   "cell_type": "code",
   "execution_count": 1,
   "id": "9db69baa",
   "metadata": {},
   "outputs": [],
   "source": [
    "import numpy as np\n",
    "import pandas as pd\n",
    "import seaborn as sns\n",
    "import matplotlib.pyplot as plt\n",
    "from sklearn.model_selection import train_test_split\n",
    "from sklearn.linear_model import LogisticRegression, LinearRegression\n",
    "from sklearn.metrics import classification_report, confusion_matrix\n",
    "import matplotlib as mpl"
   ]
  },
  {
   "cell_type": "code",
   "execution_count": 2,
   "id": "981859bd",
   "metadata": {},
   "outputs": [],
   "source": [
    "df = pd.read_csv('task19.csv', encoding=\"windows-1251\", sep=\";\")"
   ]
  },
  {
   "cell_type": "code",
   "execution_count": 3,
   "id": "103b3369",
   "metadata": {},
   "outputs": [
    {
     "data": {
      "text/html": [
       "<div>\n",
       "<style scoped>\n",
       "    .dataframe tbody tr th:only-of-type {\n",
       "        vertical-align: middle;\n",
       "    }\n",
       "\n",
       "    .dataframe tbody tr th {\n",
       "        vertical-align: top;\n",
       "    }\n",
       "\n",
       "    .dataframe thead th {\n",
       "        text-align: right;\n",
       "    }\n",
       "</style>\n",
       "<table border=\"1\" class=\"dataframe\">\n",
       "  <thead>\n",
       "    <tr style=\"text-align: right;\">\n",
       "      <th></th>\n",
       "      <th>Дата</th>\n",
       "      <th>Пункт отправления</th>\n",
       "      <th>Пункт назначения</th>\n",
       "      <th>Расстояние</th>\n",
       "      <th>Расход бензина</th>\n",
       "      <th>Масса груза</th>\n",
       "    </tr>\n",
       "  </thead>\n",
       "  <tbody>\n",
       "    <tr>\n",
       "      <th>0</th>\n",
       "      <td>1 октября</td>\n",
       "      <td>Липки</td>\n",
       "      <td>Березки</td>\n",
       "      <td>432</td>\n",
       "      <td>63</td>\n",
       "      <td>770</td>\n",
       "    </tr>\n",
       "    <tr>\n",
       "      <th>1</th>\n",
       "      <td>1 октября</td>\n",
       "      <td>Орехово</td>\n",
       "      <td>Дубки</td>\n",
       "      <td>121</td>\n",
       "      <td>17</td>\n",
       "      <td>670</td>\n",
       "    </tr>\n",
       "    <tr>\n",
       "      <th>2</th>\n",
       "      <td>1 октября</td>\n",
       "      <td>Осинки</td>\n",
       "      <td>Вязово</td>\n",
       "      <td>333</td>\n",
       "      <td>47</td>\n",
       "      <td>830</td>\n",
       "    </tr>\n",
       "    <tr>\n",
       "      <th>3</th>\n",
       "      <td>1 октября</td>\n",
       "      <td>Липки</td>\n",
       "      <td>Вязово</td>\n",
       "      <td>384</td>\n",
       "      <td>54</td>\n",
       "      <td>730</td>\n",
       "    </tr>\n",
       "    <tr>\n",
       "      <th>4</th>\n",
       "      <td>1 октября</td>\n",
       "      <td>Березки</td>\n",
       "      <td>Буково</td>\n",
       "      <td>135</td>\n",
       "      <td>19</td>\n",
       "      <td>540</td>\n",
       "    </tr>\n",
       "    <tr>\n",
       "      <th>...</th>\n",
       "      <td>...</td>\n",
       "      <td>...</td>\n",
       "      <td>...</td>\n",
       "      <td>...</td>\n",
       "      <td>...</td>\n",
       "      <td>...</td>\n",
       "    </tr>\n",
       "    <tr>\n",
       "      <th>365</th>\n",
       "      <td>9 октября</td>\n",
       "      <td>Березки</td>\n",
       "      <td>Буково</td>\n",
       "      <td>133</td>\n",
       "      <td>17</td>\n",
       "      <td>750</td>\n",
       "    </tr>\n",
       "    <tr>\n",
       "      <th>366</th>\n",
       "      <td>9 октября</td>\n",
       "      <td>Вязово</td>\n",
       "      <td>Сосново</td>\n",
       "      <td>336</td>\n",
       "      <td>47</td>\n",
       "      <td>750</td>\n",
       "    </tr>\n",
       "    <tr>\n",
       "      <th>367</th>\n",
       "      <td>9 октября</td>\n",
       "      <td>Осинки</td>\n",
       "      <td>Орехово</td>\n",
       "      <td>197</td>\n",
       "      <td>23</td>\n",
       "      <td>750</td>\n",
       "    </tr>\n",
       "    <tr>\n",
       "      <th>368</th>\n",
       "      <td>9 октября</td>\n",
       "      <td>Осинки</td>\n",
       "      <td>Липки</td>\n",
       "      <td>184</td>\n",
       "      <td>25</td>\n",
       "      <td>520</td>\n",
       "    </tr>\n",
       "    <tr>\n",
       "      <th>369</th>\n",
       "      <td>9 октября</td>\n",
       "      <td>Дубки</td>\n",
       "      <td>Сосново</td>\n",
       "      <td>386</td>\n",
       "      <td>54</td>\n",
       "      <td>940</td>\n",
       "    </tr>\n",
       "  </tbody>\n",
       "</table>\n",
       "<p>370 rows × 6 columns</p>\n",
       "</div>"
      ],
      "text/plain": [
       "          Дата Пункт отправления Пункт назначения  Расстояние  Расход бензина  \\\n",
       "0    1 октября             Липки          Березки         432              63   \n",
       "1    1 октября           Орехово            Дубки         121              17   \n",
       "2    1 октября            Осинки           Вязово         333              47   \n",
       "3    1 октября             Липки           Вязово         384              54   \n",
       "4    1 октября           Березки           Буково         135              19   \n",
       "..         ...               ...              ...         ...             ...   \n",
       "365  9 октября           Березки           Буково         133              17   \n",
       "366  9 октября            Вязово          Сосново         336              47   \n",
       "367  9 октября            Осинки          Орехово         197              23   \n",
       "368  9 октября            Осинки            Липки         184              25   \n",
       "369  9 октября             Дубки          Сосново         386              54   \n",
       "\n",
       "     Масса груза  \n",
       "0            770  \n",
       "1            670  \n",
       "2            830  \n",
       "3            730  \n",
       "4            540  \n",
       "..           ...  \n",
       "365          750  \n",
       "366          750  \n",
       "367          750  \n",
       "368          520  \n",
       "369          940  \n",
       "\n",
       "[370 rows x 6 columns]"
      ]
     },
     "execution_count": 3,
     "metadata": {},
     "output_type": "execute_result"
    }
   ],
   "source": [
    "df"
   ]
  },
  {
   "cell_type": "code",
   "execution_count": 4,
   "id": "623877fc",
   "metadata": {},
   "outputs": [
    {
     "data": {
      "text/plain": [
       "array(['1 октября', '2 октября', '3 октября', '4 октября', '5 октября',\n",
       "       '6 октября', '7 октября', '8 октября', '9 октября'], dtype=object)"
      ]
     },
     "execution_count": 4,
     "metadata": {},
     "output_type": "execute_result"
    }
   ],
   "source": [
    "fuel_labels = df['Дата'].unique()\n",
    "fuel_labels"
   ]
  },
  {
   "cell_type": "code",
   "execution_count": 7,
   "id": "e5bac8af",
   "metadata": {},
   "outputs": [],
   "source": [
    "fuel_data = df.groupby(['Дата']).sum()['Расход бензина']\n",
    "fuel_data\n",
    "colors = ['#ff9999','#66b3ff','#99ff99','#ffcc99', '#ff1199', '#9f9999', '#669f99', '#f94781', '#1f9f99']"
   ]
  },
  {
   "cell_type": "code",
   "execution_count": 11,
   "id": "df826dfa",
   "metadata": {},
   "outputs": [
    {
     "data": {
      "text/plain": [
       "([<matplotlib.patches.Wedge at 0x1d0abd23c40>,\n",
       "  <matplotlib.patches.Wedge at 0x1d0abd322b0>,\n",
       "  <matplotlib.patches.Wedge at 0x1d0abd32940>,\n",
       "  <matplotlib.patches.Wedge at 0x1d0abd32fd0>,\n",
       "  <matplotlib.patches.Wedge at 0x1d0abd406a0>,\n",
       "  <matplotlib.patches.Wedge at 0x1d0abd40d30>,\n",
       "  <matplotlib.patches.Wedge at 0x1d0abd4d400>,\n",
       "  <matplotlib.patches.Wedge at 0x1d0abd4da90>,\n",
       "  <matplotlib.patches.Wedge at 0x1d0abd5c160>],\n",
       " [Text(1.0675097497445698, 0.2653731979689852, '1 октября'),\n",
       "  Text(0.6874581626080926, 0.858720719828924, '2 октября'),\n",
       "  Text(-0.09174185961353616, 1.0961676109038483, '3 октября'),\n",
       "  Text(-0.7949959488418171, 0.7602509068229376, '4 октября'),\n",
       "  Text(-1.0993227778517012, 0.038593135353577813, '5 октября'),\n",
       "  Text(-0.8681342078786425, -0.6755316403477503, '6 октября'),\n",
       "  Text(-0.23324421761770747, -1.0749870394325243, '7 октября'),\n",
       "  Text(0.4532632749115189, -1.002273617140791, '8 октября'),\n",
       "  Text(0.9996054997536583, -0.459117463033415, '9 октября')],\n",
       " [Text(0.5822780453152199, 0.1447490170739919, '8%'),\n",
       "  Text(0.3749771796044141, 0.46839311990668575, '13%'),\n",
       "  Text(-0.05004101433465608, 0.5979096059475535, '11%'),\n",
       "  Text(-0.4336341539137184, 0.4146823128125114, '12%'),\n",
       "  Text(-0.5996306061009278, 0.021050801101951535, '11%'),\n",
       "  Text(-0.47352774975198675, -0.36847180382604555, '11%'),\n",
       "  Text(-0.12722411870056768, -0.586356566963195, '11%'),\n",
       "  Text(0.24723451358810117, -0.5466947002586132, '9%'),\n",
       "  Text(0.5452393635019954, -0.2504277071091354, '14%')])"
      ]
     },
     "execution_count": 11,
     "metadata": {},
     "output_type": "execute_result"
    },
    {
     "data": {
      "image/png": "[encoded data removed]",
      "text/plain": [
       "<Figure size 432x288 with 1 Axes>"
      ]
     },
     "metadata": {},
     "output_type": "display_data"
    }
   ],
   "source": [
    "# Круговая диаграмма: суммарный расход бензина по датам по всем направлениям.\n",
    "plt.pie(fuel_data, labels = fuel_labels, colors=colors, autopct='%.0f%%')"
   ]
  },
  {
   "cell_type": "code",
   "execution_count": 12,
   "id": "8bc2c964",
   "metadata": {},
   "outputs": [
    {
     "data": {
      "text/plain": [
       "34.116216216216216"
      ]
     },
     "execution_count": 12,
     "metadata": {},
     "output_type": "execute_result"
    }
   ],
   "source": [
    "df['Расход бензина'].mean()"
   ]
  },
  {
   "cell_type": "code",
   "execution_count": 14,
   "id": "bde93542",
   "metadata": {},
   "outputs": [
    {
     "data": {
      "text/plain": [
       "<AxesSubplot:xlabel='Count', ylabel='Дата'>"
      ]
     },
     "execution_count": 14,
     "metadata": {},
     "output_type": "execute_result"
    },
    {
     "data": {
      "image/png": "[encoded data removed]",
      "text/plain": [
       "<Figure size 432x288 with 1 Axes>"
      ]
     },
     "metadata": {
      "needs_background": "light"
     },
     "output_type": "display_data"
    }
   ],
   "source": [
    "# Гистограмма: в какие числа расход бензина был больше среднего.\n",
    "sns.histplot(data=df[df['Расход бензина'] > df['Расход бензина'].mean()], y=\"Дата\")"
   ]
  },
  {
   "cell_type": "code",
   "execution_count": 16,
   "id": "a852583d",
   "metadata": {},
   "outputs": [
    {
     "data": {
      "text/plain": [
       "Дата\n",
       "1 октября    27\n",
       "2 октября    47\n",
       "3 октября    43\n",
       "4 октября    45\n",
       "5 октября    38\n",
       "6 октября    41\n",
       "7 октября    39\n",
       "8 октября    38\n",
       "9 октября    52\n",
       "Name: Пункт назначения, dtype: int64"
      ]
     },
     "execution_count": 16,
     "metadata": {},
     "output_type": "execute_result"
    }
   ],
   "source": [
    "drive_to = df.groupby(['Дата']).count()['Пункт назначения']\n",
    "drive_to"
   ]
  },
  {
   "cell_type": "code",
   "execution_count": 17,
   "id": "1792cf52",
   "metadata": {},
   "outputs": [
    {
     "data": {
      "text/plain": [
       "array(['1 октября', '2 октября', '3 октября', '4 октября', '5 октября',\n",
       "       '6 октября', '7 октября', '8 октября', '9 октября'], dtype=object)"
      ]
     },
     "execution_count": 17,
     "metadata": {},
     "output_type": "execute_result"
    }
   ],
   "source": [
    "drive_to_labels = df['Дата'].unique()\n",
    "drive_to_labels"
   ]
  },
  {
   "cell_type": "code",
   "execution_count": 18,
   "id": "1a25db02",
   "metadata": {},
   "outputs": [
    {
     "data": {
      "text/plain": [
       "([<matplotlib.patches.Wedge at 0x1d0abfb9fd0>,\n",
       "  <matplotlib.patches.Wedge at 0x1d0abfc7700>,\n",
       "  <matplotlib.patches.Wedge at 0x1d0abfc7d90>,\n",
       "  <matplotlib.patches.Wedge at 0x1d0abfd4460>,\n",
       "  <matplotlib.patches.Wedge at 0x1d0abfd4af0>,\n",
       "  <matplotlib.patches.Wedge at 0x1d0abfe11c0>,\n",
       "  <matplotlib.patches.Wedge at 0x1d0abfe1850>,\n",
       "  <matplotlib.patches.Wedge at 0x1d0abfe1ee0>,\n",
       "  <matplotlib.patches.Wedge at 0x1d0abff05b0>],\n",
       " [Text(1.071220473684588, 0.2499733921019734, '1 октября'),\n",
       "  Text(0.7197049062730877, 0.8318803086300615, '2 октября'),\n",
       "  Text(-0.05601493941687868, 1.0985728590139678, '3 октября'),\n",
       "  Text(-0.7876605008685075, 0.7678482502236833, '4 октября'),\n",
       "  Text(-1.097463279678657, 0.07466156813894256, '5 октября'),\n",
       "  Text(-0.9060977740366762, -0.6236880822059858, '6 октября'),\n",
       "  Text(-0.313163147129976, -1.0544803664742408, '7 октября'),\n",
       "  Text(0.39275101284621555, -1.0274953245189353, '8 октября'),\n",
       "  Text(0.9945129348034025, -0.4700468301230457, '9 октября')],\n",
       " [Text(0.5843020765552298, 0.13634912296471274, '27'),\n",
       "  Text(0.3925663125125932, 0.4537528956163971, '47'),\n",
       "  Text(-0.030553603318297456, 0.5992215594621643, '43'),\n",
       "  Text(-0.4296330004737313, 0.4188263183038272, '45'),\n",
       "  Text(-0.5986163343701765, 0.040724491712150486, '38'),\n",
       "  Text(-0.4942351494745506, -0.34019349938508314, '41'),\n",
       "  Text(-0.17081626207089598, -0.5751711089859495, '39'),\n",
       "  Text(0.2142278251888448, -0.5604519951921464, '38'),\n",
       "  Text(0.5424616008018559, -0.2563891800671158, '52')])"
      ]
     },
     "execution_count": 18,
     "metadata": {},
     "output_type": "execute_result"
    },
    {
     "data": {
      "image/png": "[encoded data removed]",
      "text/plain": [
       "<Figure size 432x288 with 1 Axes>"
      ]
     },
     "metadata": {},
     "output_type": "display_data"
    }
   ],
   "source": [
    "# Круговая диаграмма: количество поездок в числа, представленные в датасете.\n",
    "plt.pie(drive_to, labels=drive_to_labels, autopct=lambda x: '{:.0f}'.format(x*drive_to.sum()/100))"
   ]
  },
  {
   "cell_type": "code",
   "execution_count": null,
   "id": "26f26a9e",
   "metadata": {},
   "outputs": [],
   "source": []
  }
 ],
 "metadata": {
  "kernelspec": {
   "display_name": "Python 3",
   "language": "python",
   "name": "python3"
  },
  "language_info": {
   "codemirror_mode": {
    "name": "ipython",
    "version": 3
   },
   "file_extension": ".py",
   "mimetype": "text/x-python",
   "name": "python",
   "nbconvert_exporter": "python",
   "pygments_lexer": "ipython3",
   "version": "3.8.8"
  }
 },
 "nbformat": 4,
 "nbformat_minor": 5
}
